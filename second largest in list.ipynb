{
  "nbformat": 4,
  "nbformat_minor": 0,
  "metadata": {
    "colab": {
      "name": "Untitled2.ipynb",
      "provenance": [],
      "toc_visible": true,
      "authorship_tag": "ABX9TyNvP33HBPU6zxQQH/GQ6eIB",
      "include_colab_link": true
    },
    "kernelspec": {
      "name": "python3",
      "display_name": "Python 3"
    }
  },
  "cells": [
    {
      "cell_type": "markdown",
      "metadata": {
        "id": "view-in-github",
        "colab_type": "text"
      },
      "source": [
        "<a href=\"https://colab.research.google.com/github/19PA1AO5B7/srk-muppalla/blob/master/second%20largest%20in%20list.ipynb\" target=\"_parent\"><img src=\"https://colab.research.google.com/assets/colab-badge.svg\" alt=\"Open In Colab\"/></a>"
      ]
    },
    {
      "cell_type": "code",
      "metadata": {
        "id": "kUFIpzIixxI4",
        "colab_type": "code",
        "colab": {
          "base_uri": "https://localhost:8080/",
          "height": 191
        },
        "outputId": "84049bea-262c-4189-8aed-7d5070041023"
      },
      "source": [
        "def srk(l):\n",
        "  l.sort()\n",
        "  num=l[-2]\n",
        "  return num\n",
        "n=int(input(\"enter the range\"))\n",
        "x=[]\n",
        "for i in range(n): \n",
        "  a=int(input(\"enter a number\"))\n",
        "  x.append(a)\n",
        "m=srk(x)\n",
        "print(\"second biggest in list\",m)  \n",
        "  \n",
        "\n",
        "\n",
        "  \n",
        "    "
      ],
      "execution_count": 4,
      "outputs": [
        {
          "output_type": "stream",
          "text": [
            "enter the range8\n",
            "enter a number67\n",
            "enter a number98\n",
            "enter a number09\n",
            "enter a number800\n",
            "enter a number099\n",
            "enter a number989\n",
            "enter a number9999\n",
            "enter a number767\n",
            "second biggest in list 989\n"
          ],
          "name": "stdout"
        }
      ]
    }
  ]
}